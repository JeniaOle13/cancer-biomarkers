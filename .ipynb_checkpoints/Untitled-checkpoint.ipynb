{
 "cells": [
  {
   "cell_type": "code",
   "execution_count": 28,
   "id": "dd90bda4-e9d0-4795-b5b4-aae8df9bb27b",
   "metadata": {},
   "outputs": [],
   "source": [
    "from pymed import PubMed\n",
    "import requests  # для запросов к Ollama API\n",
    "import json"
   ]
  },
  {
   "cell_type": "code",
   "execution_count": 37,
   "id": "39980666-0aec-4ff6-b63c-b0e1684d7c77",
   "metadata": {},
   "outputs": [
    {
     "name": "stdout",
     "output_type": "stream",
     "text": [
      "Абстракт для анализа: The purpose of this study is to present a case series of patients with co-occurrence of either BRCA1 associated protein-1 (\n",
      "This is a retrospective case series of ten patients with UM demonstrating co-occurrence of either \n",
      "We present a case series of patients with the co-occurrence of \n"
     ]
    }
   ],
   "source": [
    "# 1. Парсинг PubMed\n",
    "pubmed = PubMed()\n",
    "search_term = \"BRCA1\"\n",
    "articles = pubmed.query(search_term, max_results=1)\n",
    "article = next(articles, None)\n",
    "\n",
    "if not article:\n",
    "    print(\"Не найдено статей по запросу.\")\n",
    "    exit()\n",
    "\n",
    "abstract = article.abstract"
   ]
  },
  {
   "cell_type": "code",
   "execution_count": 38,
   "id": "72b20a97-bc51-4208-a8c0-3f900ad425e2",
   "metadata": {},
   "outputs": [
    {
     "name": "stdout",
     "output_type": "stream",
     "text": [
      "\n",
      "Результат анализа:\n",
      "Вот анализ медицинского абстракта и выделение ключевых моментов:\n",
      "\n",
      "**Абстракт:** The purpose of this study is to present a case series of patients with co-occurrence of either BRCA1 associated protein-1 (UM). We present a case series of patients with the co-occurrence of... (остальная часть текста отсутствует, но предполагается, что речь идет о другом заболевании или состоянии).\n",
      "\n",
      "**Ключевые моменты:**\n",
      "\n",
      "*   **Тип исследования:** Ретроспективное исследование (case series). Это означает, что данные собирались из уже существующих медицинских записей.\n",
      "*   **Количество пациентов:** 10 пациентов.\n",
      "*   **Основная особенность:**  Сопутствующее (co-occurrence) наличие BRCA1 associated protein-1 (UM).  Это ключевой фактор, который изучается в данном исследовании.  (Необходимо знать, что такое \"UM\" для полного понимания контекста).\n",
      "*   **Цель исследования:** Представить серию случаев пациентов с этим сопутствующим состоянием.\n",
      "\n",
      "**Необходимая дополнительная информация:**\n",
      "\n",
      "Для более полного понимания абстракта необходимо знать:\n",
      "\n",
      "*   Что такое \"UM\" (скорее всего, это аббревиатура, обозначающая конкретное заболевание или состояние).\n",
      "*   Какова связь между BRCA1 associated protein-1 и \"UM\".\n",
      "*   Какие еще сопутствующие состояния были у пациентов.\n",
      "\n",
      "Надеюсь, этот анализ поможет вам!\n",
      "\n"
     ]
    }
   ],
   "source": [
    "# 2. Запрос к Ollama API\n",
    "url = \"http://localhost:11434/api/generate\"  # стандартный адрес Ollama\n",
    "prompt = f\"\"\"\n",
    "Проанализируй следующий медицинский абстракт и выдели ключевые моменты:\n",
    "\n",
    "{abstract}\n",
    "\n",
    "Ключевые выводы:\n",
    "\"\"\"\n",
    "\n",
    "data = {\n",
    "    \"model\": \"hf.co/bartowski/google_gemma-3-4b-it-GGUF:Q8_0\",\n",
    "    \"prompt\": prompt,\n",
    "    \"stream\": False,\n",
    "    \"max_tokens\": 500,\n",
    "    \"temperature\": 0.7\n",
    "}\n",
    "\n",
    "try:\n",
    "    response = requests.post(url, json=data)\n",
    "    response.raise_for_status()  # проверка ошибок HTTP\n",
    "    result = json.loads(response.text)\n",
    "    print(\"\\nРезультат анализа:\")\n",
    "    print(result[\"response\"])\n",
    "    \n",
    "except Exception as e:\n",
    "    print(f\"Ошибка при запросе к Ollama: {e}\")"
   ]
  },
  {
   "cell_type": "code",
   "execution_count": null,
   "id": "5cb7a5ff-6688-4414-80f0-5ed48536ad63",
   "metadata": {},
   "outputs": [],
   "source": []
  }
 ],
 "metadata": {
  "kernelspec": {
   "display_name": "Python 3 (ipykernel)",
   "language": "python",
   "name": "python3"
  },
  "language_info": {
   "codemirror_mode": {
    "name": "ipython",
    "version": 3
   },
   "file_extension": ".py",
   "mimetype": "text/x-python",
   "name": "python",
   "nbconvert_exporter": "python",
   "pygments_lexer": "ipython3",
   "version": "3.13.3"
  }
 },
 "nbformat": 4,
 "nbformat_minor": 5
}
