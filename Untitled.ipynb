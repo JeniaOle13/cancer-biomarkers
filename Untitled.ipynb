{
 "cells": [
  {
   "cell_type": "code",
   "execution_count": 2,
   "id": "dd90bda4-e9d0-4795-b5b4-aae8df9bb27b",
   "metadata": {},
   "outputs": [],
   "source": [
    "from pymed import PubMed\n",
    "import requests  # для запросов к Ollama API\n",
    "import json"
   ]
  },
  {
   "cell_type": "code",
   "execution_count": 25,
   "id": "39980666-0aec-4ff6-b63c-b0e1684d7c77",
   "metadata": {},
   "outputs": [],
   "source": [
    "# 1. Парсинг PubMed\n",
    "pubmed = PubMed()\n",
    "search_term = \"LRKK2\"\n",
    "articles = pubmed.query(search_term, max_results=10)\n",
    "article = next(articles, None)\n",
    "article = next(articles, 1)\n",
    "\n",
    "if not article:\n",
    "    print(\"Не найдено статей по запросу.\")\n",
    "    exit()\n",
    "\n",
    "abstract = article.abstract"
   ]
  },
  {
   "cell_type": "code",
   "execution_count": 26,
   "id": "251dc719-1208-4b4e-acec-813238f2d916",
   "metadata": {},
   "outputs": [
    {
     "data": {
      "text/plain": [
       "\"Parkinson's disease (PD) is the second most common neurodegenerative disease following Alzheimer's disease. Nearly 30 causative genes have been identified for PD and related disorders. However, most of these genes were identified in European-derived families, and little is known about their role in Latin American populations.\\nOur goal was to assess the spectrum and frequency of pathogenic variants in known PD genes in familial PD patients from Latin America.\\nWe selected 335 PD patients with a family history of PD from the Latin American Research Consortium on the Genetics of PD. We capture-sequenced the coding regions of 26 genes related to neurodegenerative parkinsonism. Of the 335 PD patients, 324 had sufficient sequencing coverage to be analyzed.\\nWe identified pathogenic variants in 41 individuals (12.7%) in FBXO7, GCH1, LRRK2, PARK7, PINK1, PLA2G6, PRKN, SNCA, and TARDBP, GBA1 risk variants in 25 individuals (7.7%), and variants of uncertain significance in another 24 individuals (7.4%) in ATP13A2, ATP1A3, DNAJC13, DNAJC6, GBA1, LRKK2, PINK1, VPS13C, and VPS35. Of the 70 unique variants identified, 19 were more frequent in Latin Americans than in any other population.\\nThis is the first screening of known PD genes in a large cohort of patients with familial PD from Latin America. There were substantial differences in the spectrum of variants observed in comparison to previous findings from PD families of European origin. Our data provide further evidence that differences exist between the genetic architecture of PD in Latinos and European-derived populations. © 2024 The Author(s). Movement Disorders published by Wiley Periodicals LLC on behalf of International Parkinson and Movement Disorder Society.\""
      ]
     },
     "execution_count": 26,
     "metadata": {},
     "output_type": "execute_result"
    }
   ],
   "source": [
    "abstract"
   ]
  },
  {
   "cell_type": "code",
   "execution_count": 27,
   "id": "72b20a97-bc51-4208-a8c0-3f900ad425e2",
   "metadata": {},
   "outputs": [
    {
     "name": "stdout",
     "output_type": "stream",
     "text": [
      "\n",
      "Результат анализа:\n",
      "Вот анализ медицинского абстракта и выделение ключевых моментов:\n",
      "\n",
      "**Ключевые моменты:**\n",
      "\n",
      "* **Проблема:** Знание о генетике болезни Паркинсона (БП) в латиноамериканских популяциях ограничено. Большинство известных генов, связанных с БП, идентифицированы в европейских семьях, и их роль в латиноамериканских семьях недостаточно изучена.\n",
      "* **Цель исследования:** Оценить спектр и частоту патогенных вариантов в известных генах БП у семейных пациентов из Латинской Америки.\n",
      "* **Методология:** Исследователи провели capture-секвенирование кодирующих областей 26 генов, связанных с нейродегенеративным паркинсонизмом, у 335 семейных пациентов с БП из Латинской Америки.\n",
      "* **Результаты:**\n",
      "    * Патогенные варианты были идентифицированы у 41 человека (12.7%) в генах FBXO7, GCH1, LRRK2, PARK7, PINK1, PLA2G6, PRKN, SNCA, и TARDBP.\n",
      "    * Рисковые варианты GBA1 были идентифицированы у 25 человек (7.7%).\n",
      "    * Варианты неустановленной значимости были обнаружены у 24 человек (7.4%) в генах ATP13A2, ATP1A3, DNAJC13, DNAJC6, GBA1, LRKK2, PINK1, VPS13C, и VPS35.\n",
      "    * 19 уникальных вариантов были более распространены в латиноамериканской популяции, чем в других.\n",
      "* **Вывод:** Это первое масштабное исследование известных генов БП у семейных пациентов из Латинской Америки.  Результаты показывают существенные различия в генетическом спектре по сравнению с данными, полученными из европейских семей.  Данные подтверждают, что генетическая архитектура БП может отличаться между латиноамериканскими и европейскими популяциями.\n",
      "\n",
      "**Ключевые выводы (в более сжатом виде):**\n",
      "\n",
      "* **Различия в генетике БП:** Генетический профиль болезни Паркинсона в латиноамериканских семьях отличается от европейских.\n",
      "* **Новые данные:** Исследование выявило 19 уникальных вариантов, более часто встречающихся в латиноамериканских семьях.\n",
      "* **Первое масштабное исследование:**  Это первое крупномасштабное исследование, посвященное генетике БП в латиноамериканской популяции.\n",
      "\n",
      "Надеюсь, этот анализ будет полезен!\n",
      "\n"
     ]
    }
   ],
   "source": [
    "# 2. Запрос к Ollama API\n",
    "url = \"http://localhost:11434/api/generate\"  # стандартный адрес Ollama\n",
    "prompt = f\"\"\"\n",
    "Проанализируй следующий медицинский абстракт и выдели ключевые моменты:\n",
    "\n",
    "{abstract}\n",
    "\n",
    "Ключевые выводы:\n",
    "\"\"\"\n",
    "\n",
    "data = {\n",
    "    \"model\": \"hf.co/bartowski/google_gemma-3-4b-it-GGUF:Q8_0\",\n",
    "    \"prompt\": prompt,\n",
    "    \"stream\": False,\n",
    "    \"max_tokens\": 500,\n",
    "    \"temperature\": 0.7\n",
    "}\n",
    "\n",
    "try:\n",
    "    response = requests.post(url, json=data)\n",
    "    response.raise_for_status()  # проверка ошибок HTTP\n",
    "    result = json.loads(response.text)\n",
    "    print(\"\\nРезультат анализа:\")\n",
    "    print(result[\"response\"])\n",
    "    \n",
    "except Exception as e:\n",
    "    print(f\"Ошибка при запросе к Ollama: {e}\")"
   ]
  },
  {
   "cell_type": "code",
   "execution_count": null,
   "id": "e1c50cca-8791-43f5-9e37-032c39db80a5",
   "metadata": {},
   "outputs": [],
   "source": []
  }
 ],
 "metadata": {
  "kernelspec": {
   "display_name": "Python 3 (ipykernel)",
   "language": "python",
   "name": "python3"
  },
  "language_info": {
   "codemirror_mode": {
    "name": "ipython",
    "version": 3
   },
   "file_extension": ".py",
   "mimetype": "text/x-python",
   "name": "python",
   "nbconvert_exporter": "python",
   "pygments_lexer": "ipython3",
   "version": "3.13.3"
  }
 },
 "nbformat": 4,
 "nbformat_minor": 5
}
